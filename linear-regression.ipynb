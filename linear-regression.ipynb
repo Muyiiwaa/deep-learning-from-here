{
 "cells": [
  {
   "cell_type": "code",
   "execution_count": 6,
   "metadata": {},
   "outputs": [],
   "source": [
    "import torch\n",
    "import torch.nn as nn\n",
    "import numpy as np\n",
    "import matplotlib.pyplot as plt\n",
    "import seaborn as sns\n"
   ]
  },
  {
   "cell_type": "code",
   "execution_count": 14,
   "metadata": {},
   "outputs": [],
   "source": [
    "# creating the input array\n",
    "\n",
    "inputs = np.random.randint(30, 102, size=(15,3))\n",
    "\n",
    "# creating the target array\n",
    "\n",
    "target = np.random.randint(10, 45, size=(15,2)) * 30 + 10"
   ]
  },
  {
   "cell_type": "code",
   "execution_count": 16,
   "metadata": {},
   "outputs": [],
   "source": [
    "inputs = torch.from_numpy(inputs)\n",
    "target = torch.from_numpy(target)"
   ]
  },
  {
   "cell_type": "code",
   "execution_count": 17,
   "metadata": {},
   "outputs": [],
   "source": [
    "# create a dataloader \n",
    "\n",
    "from torch.utils.data import  TensorDataset"
   ]
  },
  {
   "cell_type": "code",
   "execution_count": 18,
   "metadata": {},
   "outputs": [
    {
     "data": {
      "text/plain": [
       "(tensor([[62, 58, 48],\n",
       "         [74, 58, 64],\n",
       "         [83, 84, 65]], dtype=torch.int32),\n",
       " tensor([[1180, 1000],\n",
       "         [ 490,  820],\n",
       "         [1000,  820]], dtype=torch.int32))"
      ]
     },
     "execution_count": 18,
     "metadata": {},
     "output_type": "execute_result"
    }
   ],
   "source": [
    "train_ds = TensorDataset(inputs, target)\n",
    "\n",
    "train_ds[0:3]"
   ]
  },
  {
   "cell_type": "code",
   "execution_count": 19,
   "metadata": {},
   "outputs": [],
   "source": [
    "# create the dataloader for splitting the data into\n",
    "# batches\n",
    "\n",
    "\n",
    "from torch.utils.data import  DataLoader\n",
    "\n",
    "batch_size = 5\n",
    "train_dl = DataLoader(train_ds, batch_size, shuffle = True)"
   ]
  },
  {
   "cell_type": "code",
   "execution_count": 20,
   "metadata": {},
   "outputs": [
    {
     "name": "stdout",
     "output_type": "stream",
     "text": [
      "tensor([[ 96,  82,  67],\n",
      "        [ 83,  84,  65],\n",
      "        [ 94,  41, 100],\n",
      "        [ 99,  86,  58],\n",
      "        [ 70,  63,  91]], dtype=torch.int32)\n",
      "tensor([[1030, 1150],\n",
      "        [1000,  820],\n",
      "        [ 760,  460],\n",
      "        [ 520,  400],\n",
      "        [ 790,  400]], dtype=torch.int32)\n"
     ]
    }
   ],
   "source": [
    "for xb, yb in train_dl:\n",
    "    print(xb)\n",
    "    print(yb)\n",
    "    break"
   ]
  },
  {
   "cell_type": "code",
   "execution_count": null,
   "metadata": {},
   "outputs": [],
   "source": []
  }
 ],
 "metadata": {
  "kernelspec": {
   "display_name": "base",
   "language": "python",
   "name": "python3"
  },
  "language_info": {
   "codemirror_mode": {
    "name": "ipython",
    "version": 3
   },
   "file_extension": ".py",
   "mimetype": "text/x-python",
   "name": "python",
   "nbconvert_exporter": "python",
   "pygments_lexer": "ipython3",
   "version": "3.11.4"
  }
 },
 "nbformat": 4,
 "nbformat_minor": 2
}
