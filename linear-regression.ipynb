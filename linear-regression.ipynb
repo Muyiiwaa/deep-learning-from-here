{
 "cells": [
  {
   "cell_type": "code",
   "execution_count": 1,
   "metadata": {},
   "outputs": [],
   "source": [
    "import torch\n",
    "import torch.nn as nn\n",
    "import numpy as np\n",
    "import matplotlib.pyplot as plt\n",
    "import seaborn as sns\n"
   ]
  },
  {
   "cell_type": "code",
   "execution_count": 2,
   "metadata": {},
   "outputs": [],
   "source": [
    "# creating the input array\n",
    "\n",
    "inputs = np.array([\n",
    "    [25, 60, 10],\n",
    "    [28, 55, 15],\n",
    "    [30, 50, 20],\n",
    "    [32, 48, 18],\n",
    "    [26, 62, 12],\n",
    "    [24, 58, 8],\n",
    "    [29, 54, 22],\n",
    "    [31, 53, 25],\n",
    "    [27, 61, 14],\n",
    "    [33, 49, 17],\n",
    "    [22, 65, 9],\n",
    "    [23, 63, 11],\n",
    "    [30, 52, 19],\n",
    "    [28, 56, 16],\n",
    "    [25, 59, 13]\n",
    "], dtype = 'float32')\n",
    "\n",
    "# creating the target array\n",
    "\n",
    "target = np.array([\n",
    "    [30, 25],\n",
    "    [32, 22],\n",
    "    [35, 20],\n",
    "    [31, 23],\n",
    "    [28, 26],\n",
    "    [29, 24],\n",
    "    [33, 18],\n",
    "    [30, 21],\n",
    "    [34, 19],\n",
    "    [31, 22],\n",
    "    [27, 28],\n",
    "    [28, 27],\n",
    "    [36, 16],\n",
    "    [33, 20],\n",
    "    [29, 25]\n",
    "], dtype = 'float32')\n"
   ]
  },
  {
   "cell_type": "code",
   "execution_count": 3,
   "metadata": {},
   "outputs": [],
   "source": [
    "inputs = torch.from_numpy(inputs)\n",
    "target = torch.from_numpy(target)"
   ]
  },
  {
   "cell_type": "code",
   "execution_count": 4,
   "metadata": {},
   "outputs": [],
   "source": [
    "# create a dataloader \n",
    "\n",
    "from torch.utils.data import  TensorDataset"
   ]
  },
  {
   "cell_type": "code",
   "execution_count": 5,
   "metadata": {},
   "outputs": [
    {
     "data": {
      "text/plain": [
       "(tensor([[25., 60., 10.],\n",
       "         [28., 55., 15.],\n",
       "         [30., 50., 20.]]),\n",
       " tensor([[30., 25.],\n",
       "         [32., 22.],\n",
       "         [35., 20.]]))"
      ]
     },
     "execution_count": 5,
     "metadata": {},
     "output_type": "execute_result"
    }
   ],
   "source": [
    "train_ds = TensorDataset(inputs, target)\n",
    "\n",
    "train_ds[0:3]"
   ]
  },
  {
   "cell_type": "code",
   "execution_count": 6,
   "metadata": {},
   "outputs": [],
   "source": [
    "# create the dataloader for splitting the data into\n",
    "# batches\n",
    "\n",
    "\n",
    "from torch.utils.data import  DataLoader\n",
    "\n",
    "batch_size = 5\n",
    "train_dl = DataLoader(train_ds, batch_size, shuffle = True)"
   ]
  },
  {
   "cell_type": "code",
   "execution_count": 7,
   "metadata": {},
   "outputs": [
    {
     "name": "stdout",
     "output_type": "stream",
     "text": [
      "tensor([[33., 49., 17.],\n",
      "        [28., 55., 15.],\n",
      "        [31., 53., 25.],\n",
      "        [22., 65.,  9.],\n",
      "        [30., 52., 19.]])\n",
      "tensor([[31., 22.],\n",
      "        [32., 22.],\n",
      "        [30., 21.],\n",
      "        [27., 28.],\n",
      "        [36., 16.]])\n"
     ]
    }
   ],
   "source": [
    "for xb, yb in train_dl:\n",
    "    print(xb)\n",
    "    print(yb)\n",
    "    break"
   ]
  },
  {
   "cell_type": "code",
   "execution_count": 8,
   "metadata": {},
   "outputs": [
    {
     "name": "stdout",
     "output_type": "stream",
     "text": [
      "Parameter containing:\n",
      "tensor([[-0.0808, -0.1810,  0.2548],\n",
      "        [ 0.4591, -0.3780, -0.0868]], requires_grad=True)\n",
      "Parameter containing:\n",
      "tensor([0.2322, 0.4290], requires_grad=True)\n"
     ]
    }
   ],
   "source": [
    "# defining the model\n",
    "\n",
    "model = nn.Linear(3, 2)\n",
    "print(model.weight)\n",
    "print(model.bias)"
   ]
  },
  {
   "cell_type": "code",
   "execution_count": 9,
   "metadata": {},
   "outputs": [
    {
     "data": {
      "text/plain": [
       "[Parameter containing:\n",
       " tensor([[-0.0808, -0.1810,  0.2548],\n",
       "         [ 0.4591, -0.3780, -0.0868]], requires_grad=True),\n",
       " Parameter containing:\n",
       " tensor([0.2322, 0.4290], requires_grad=True)]"
      ]
     },
     "execution_count": 9,
     "metadata": {},
     "output_type": "execute_result"
    }
   ],
   "source": [
    "# parameters method returns all the weight and bias matrices present in\n",
    "# the model\n",
    "\n",
    "\n",
    "list(model.parameters())"
   ]
  },
  {
   "cell_type": "code",
   "execution_count": 10,
   "metadata": {},
   "outputs": [
    {
     "data": {
      "text/plain": [
       "tensor([[-10.0994, -11.6396],\n",
       "        [ -8.1628,  -8.8064],\n",
       "        [ -6.1453,  -6.4324],\n",
       "        [ -6.4547,  -4.5845],\n",
       "        [-10.0326, -12.1101],\n",
       "        [-10.1663, -11.1692],\n",
       "        [ -6.2788,  -8.5771],\n",
       "        [ -5.4950,  -7.5413],\n",
       "        [ -9.4227, -11.4466],\n",
       "        [ -6.9713,  -4.4165],\n",
       "        [-11.0167, -14.8202],\n",
       "        [-10.2259, -13.7787],\n",
       "        [ -6.7622,  -7.1015],\n",
       "        [ -8.0890,  -9.2712],\n",
       "        [ -9.1539, -11.5221]], grad_fn=<AddmmBackward0>)"
      ]
     },
     "execution_count": 10,
     "metadata": {},
     "output_type": "execute_result"
    }
   ],
   "source": [
    "# generate predictions\n",
    "\n",
    "preds = model(inputs)\n",
    "preds"
   ]
  },
  {
   "cell_type": "code",
   "execution_count": 12,
   "metadata": {},
   "outputs": [],
   "source": [
    "# computing the loss\n",
    "\n",
    "def loss_fn(y_pred, y_true):\n",
    "    diff = y_pred - y_true\n",
    "    return torch.sum(diff * diff)/diff.numel()"
   ]
  },
  {
   "cell_type": "code",
   "execution_count": 14,
   "metadata": {},
   "outputs": [
    {
     "name": "stdout",
     "output_type": "stream",
     "text": [
      "tensor(1303.7799, grad_fn=<DivBackward0>)\n"
     ]
    }
   ],
   "source": [
    "loss = loss_fn(model(inputs), target)\n",
    "print(loss)"
   ]
  },
  {
   "cell_type": "code",
   "execution_count": 15,
   "metadata": {},
   "outputs": [],
   "source": [
    "# define the optimizer \n",
    "\n",
    "opt = torch.optim.SGD(model.parameters(), lr = 1e-5)"
   ]
  },
  {
   "cell_type": "code",
   "execution_count": 20,
   "metadata": {},
   "outputs": [],
   "source": [
    "# utility function to train the model\n",
    "\n",
    "def fit(num_epochs, model, loss_fn, opt, train_dl):\n",
    "    \n",
    "     # repeat the given number of epochs\n",
    "     for epoch in range(num_epochs):\n",
    "         # train with batches of data\n",
    "         for xb, yb in train_dl:\n",
    "             \n",
    "             #1. generate predictions\n",
    "             pred = model(xb)\n",
    "             \n",
    "             # 2. calculate the loss\n",
    "             loss = loss_fn(pred, yb)\n",
    "             \n",
    "             #3. get the gradient of the loss w.r.t parameters (weights & bias)\n",
    "             loss.backward()\n",
    "             \n",
    "             # 4. optimize the parameters by using the gradiets\n",
    "             opt.step()\n",
    "             \n",
    "             #5. Reset the gradient to zero\n",
    "             opt.zero_grad()\n",
    "         if (epoch + 1) % 10 == 0:\n",
    "            print(f'Epoch : {epoch+1}, number of epochs:{num_epochs}, Loss : {loss.item()}')\n",
    "            \n",
    "            \n",
    "             \n",
    "        "
   ]
  },
  {
   "cell_type": "code",
   "execution_count": 22,
   "metadata": {},
   "outputs": [
    {
     "name": "stdout",
     "output_type": "stream",
     "text": [
      "Epoch : 10, loss:100, Loss : 115.71683502197266\n",
      "Epoch : 20, loss:100, Loss : 23.209171295166016\n",
      "Epoch : 30, loss:100, Loss : 7.619116306304932\n",
      "Epoch : 40, loss:100, Loss : 18.529483795166016\n",
      "Epoch : 50, loss:100, Loss : 22.701805114746094\n",
      "Epoch : 60, loss:100, Loss : 14.656954765319824\n",
      "Epoch : 70, loss:100, Loss : 22.23255157470703\n",
      "Epoch : 80, loss:100, Loss : 10.626954078674316\n",
      "Epoch : 90, loss:100, Loss : 8.142248153686523\n",
      "Epoch : 100, loss:100, Loss : 15.619306564331055\n"
     ]
    }
   ],
   "source": [
    "#training the model for 100 epoch\n",
    "\n",
    "fit(100, model, loss_fn, opt, train_dl)"
   ]
  },
  {
   "cell_type": "code",
   "execution_count": 23,
   "metadata": {},
   "outputs": [
    {
     "data": {
      "text/plain": [
       "tensor([[29.6159, 21.4220],\n",
       "        [30.5242, 22.6662],\n",
       "        [31.2395, 23.2871],\n",
       "        [30.1285, 24.4033],\n",
       "        [31.3058, 22.1755],\n",
       "        [27.9260, 20.6686],\n",
       "        [33.2261, 22.9844],\n",
       "        [34.4922, 24.0457],\n",
       "        [31.9718, 22.6436],\n",
       "        [30.2556, 25.1515],\n",
       "        [30.3363, 20.0580],\n",
       "        [30.6610, 20.4310],\n",
       "        [31.5149, 23.5073],\n",
       "        [31.2727, 22.7313],\n",
       "        [30.4961, 21.2370]], grad_fn=<AddmmBackward0>)"
      ]
     },
     "execution_count": 23,
     "metadata": {},
     "output_type": "execute_result"
    }
   ],
   "source": [
    "preds = model(inputs)\n",
    "\n",
    "preds"
   ]
  },
  {
   "cell_type": "code",
   "execution_count": 24,
   "metadata": {},
   "outputs": [
    {
     "data": {
      "text/plain": [
       "tensor([[30., 25.],\n",
       "        [32., 22.],\n",
       "        [35., 20.],\n",
       "        [31., 23.],\n",
       "        [28., 26.],\n",
       "        [29., 24.],\n",
       "        [33., 18.],\n",
       "        [30., 21.],\n",
       "        [34., 19.],\n",
       "        [31., 22.],\n",
       "        [27., 28.],\n",
       "        [28., 27.],\n",
       "        [36., 16.],\n",
       "        [33., 20.],\n",
       "        [29., 25.]])"
      ]
     },
     "execution_count": 24,
     "metadata": {},
     "output_type": "execute_result"
    }
   ],
   "source": [
    "target"
   ]
  },
  {
   "cell_type": "code",
   "execution_count": null,
   "metadata": {},
   "outputs": [],
   "source": [
    "# AND that is the basic implementation of linear regression in NN\n",
    "\n",
    "\n"
   ]
  }
 ],
 "metadata": {
  "kernelspec": {
   "display_name": "base",
   "language": "python",
   "name": "python3"
  },
  "language_info": {
   "codemirror_mode": {
    "name": "ipython",
    "version": 3
   },
   "file_extension": ".py",
   "mimetype": "text/x-python",
   "name": "python",
   "nbconvert_exporter": "python",
   "pygments_lexer": "ipython3",
   "version": "3.11.4"
  }
 },
 "nbformat": 4,
 "nbformat_minor": 2
}
