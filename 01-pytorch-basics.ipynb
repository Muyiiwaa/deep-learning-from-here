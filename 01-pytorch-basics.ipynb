{
 "cells": [
  {
   "cell_type": "code",
   "execution_count": 12,
   "metadata": {},
   "outputs": [],
   "source": [
    "# import pytorch \n",
    "import torch"
   ]
  },
  {
   "cell_type": "markdown",
   "metadata": {},
   "source": [
    "## Tensors "
   ]
  },
  {
   "cell_type": "code",
   "execution_count": 15,
   "metadata": {},
   "outputs": [
    {
     "name": "stdout",
     "output_type": "stream",
     "text": [
      "tensor(4.)\n",
      "The type of 4.0 is torch.float32 with shape torch.Size([])\n",
      "tensor([1., 2., 3., 4.])\n",
      "The type of tensor([1., 2., 3., 4.]) is torch.float32 with shape torch.Size([4])\n",
      "tensor([[1., 2.],\n",
      "        [3., 4.],\n",
      "        [5., 6.]])\n",
      "The type of tensor([[1., 2.],\n",
      "        [3., 4.],\n",
      "        [5., 6.]]) is torch.float32 with shape torch.Size([3, 2])\n",
      "tensor([[1., 2.],\n",
      "        [3., 4.],\n",
      "        [5., 6.]])\n",
      "The type of tensor([[[ 1.,  2.,  3.],\n",
      "         [ 4.,  5.,  6.]],\n",
      "\n",
      "        [[ 7.,  8.,  9.],\n",
      "         [10., 11., 12.]]]) is torch.float32 with shape torch.Size([2, 2, 3])\n"
     ]
    }
   ],
   "source": [
    "# creating tensors\n",
    "\n",
    "# Numbers \n",
    "\n",
    "t1 = torch.tensor(4.)\n",
    "print(t1)\n",
    "print(f\"The type of {t1} is {t1.dtype} with shape {t1.shape}\")\n",
    "# vectors \n",
    "\n",
    "t2 = torch.tensor([1.,2,3,4])\n",
    "print(t2)\n",
    "print(f\"The type of {t2} is {t2.dtype} with shape {t2.shape}\")\n",
    "# matrix\n",
    "t3 = torch.tensor([\n",
    "    [1, 2],\n",
    "    [3, 4],\n",
    "    [5, 6.]\n",
    "])\n",
    "print(t3)\n",
    "print(f\"The type of {t3} is {t3.dtype} with shape {t3.shape}\")\n",
    "# 3 - dimensional array\n",
    "\n",
    "t4 = torch.tensor([[[1,2,3],\n",
    "                   [4,5,6]],\n",
    "                   \n",
    "                   [[7,8,9],\n",
    "                    [10,11,12.]]])\n",
    "\n",
    "print(t3)\n",
    "print(f\"The type of {t4} is {t4.dtype} with shape {t4.shape}\")"
   ]
  },
  {
   "cell_type": "markdown",
   "metadata": {},
   "source": [
    "## Tensor operations and gradients"
   ]
  },
  {
   "cell_type": "code",
   "execution_count": 3,
   "metadata": {},
   "outputs": [],
   "source": [
    "# create tensors \n",
    "\n",
    "a = torch.tensor(3.)\n",
    "b = torch.tensor(4., requires_grad= True)\n",
    "c "
   ]
  },
  {
   "cell_type": "code",
   "execution_count": 4,
   "metadata": {},
   "outputs": [],
   "source": [
    "# arithmetic operation\n",
    "\n"
   ]
  },
  {
   "cell_type": "code",
   "execution_count": 5,
   "metadata": {},
   "outputs": [],
   "source": [
    "# computing derivatives\n",
    "\n"
   ]
  },
  {
   "cell_type": "code",
   "execution_count": null,
   "metadata": {},
   "outputs": [],
   "source": [
    "# display gradients\n",
    "\n"
   ]
  }
 ],
 "metadata": {
  "kernelspec": {
   "display_name": "base",
   "language": "python",
   "name": "python3"
  },
  "language_info": {
   "codemirror_mode": {
    "name": "ipython",
    "version": 3
   },
   "file_extension": ".py",
   "mimetype": "text/x-python",
   "name": "python",
   "nbconvert_exporter": "python",
   "pygments_lexer": "ipython3",
   "version": "3.11.4"
  }
 },
 "nbformat": 4,
 "nbformat_minor": 2
}
