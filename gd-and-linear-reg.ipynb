{
 "cells": [
  {
   "cell_type": "markdown",
   "metadata": {},
   "source": [
    "## Gradient Descent and Linear Regression in Pytorch"
   ]
  },
  {
   "cell_type": "code",
   "execution_count": 1,
   "metadata": {},
   "outputs": [],
   "source": [
    "# import the required libraries\n",
    "\n",
    "import numpy as np\n",
    "import torch\n",
    "import matplotlib.pyplot as plt"
   ]
  },
  {
   "cell_type": "code",
   "execution_count": 2,
   "metadata": {},
   "outputs": [],
   "source": [
    "# create the training set. a numpy array of [temp, rainfall, humidity]\n",
    "# \n",
    "\n",
    "inputs = np.array([[22, 65, 34],\n",
    "                   [91,38, 64],\n",
    "                   [87, 45, 55,],\n",
    "                   [102, 43, 37],\n",
    "                   [69,96, 70]], dtype = 'float32')\n",
    "\n"
   ]
  },
  {
   "cell_type": "code",
   "execution_count": 3,
   "metadata": {},
   "outputs": [],
   "source": [
    "# creating the target array\n",
    "targets = np.array([[56, 70],\n",
    "                    [81,101],\n",
    "                    [119, 133],\n",
    "                    [22, 37],\n",
    "                    [103, 119]], dtype = 'float32' )"
   ]
  },
  {
   "cell_type": "code",
   "execution_count": 4,
   "metadata": {},
   "outputs": [],
   "source": [
    "# convert the arrays to pytorch tensors\n",
    "\n",
    "input_tensor = torch.from_numpy(inputs)\n",
    "targets_tensor = torch.from_numpy(targets)"
   ]
  },
  {
   "cell_type": "code",
   "execution_count": 5,
   "metadata": {},
   "outputs": [],
   "source": [
    "# creating the weights and bias from a normal distribution\n",
    "\n",
    "# weights and bias \n",
    "\n",
    "w = torch.randn(2, 3, requires_grad= True)\n",
    "b = torch.randn(2, requires_grad= True)\n",
    "\n"
   ]
  },
  {
   "cell_type": "code",
   "execution_count": 6,
   "metadata": {},
   "outputs": [
    {
     "data": {
      "text/plain": [
       "tensor([[ 90.2563, -28.9483],\n",
       "        [ 39.5986,   7.5583],\n",
       "        [ 57.7656,  -9.8045],\n",
       "        [ 73.3165, -38.7970],\n",
       "        [127.9197, -32.7657]], grad_fn=<AddBackward0>)"
      ]
     },
     "execution_count": 6,
     "metadata": {},
     "output_type": "execute_result"
    }
   ],
   "source": [
    "# getting predictions \n",
    "\n",
    "input_tensor @ w.t() + b"
   ]
  },
  {
   "cell_type": "code",
   "execution_count": 7,
   "metadata": {},
   "outputs": [],
   "source": [
    "# create a prediction model function\n",
    "\n",
    "def model(x):\n",
    "    return x @ w.t() + b"
   ]
  },
  {
   "cell_type": "code",
   "execution_count": 8,
   "metadata": {},
   "outputs": [
    {
     "data": {
      "text/plain": [
       "tensor([[ 90.2563, -28.9483],\n",
       "        [ 39.5986,   7.5583],\n",
       "        [ 57.7656,  -9.8045],\n",
       "        [ 73.3165, -38.7970],\n",
       "        [127.9197, -32.7657]], grad_fn=<AddBackward0>)"
      ]
     },
     "execution_count": 8,
     "metadata": {},
     "output_type": "execute_result"
    }
   ],
   "source": [
    "# generate prediction\n",
    "\n",
    "preds = model(x = input_tensor)\n",
    "preds"
   ]
  },
  {
   "cell_type": "code",
   "execution_count": 9,
   "metadata": {},
   "outputs": [
    {
     "name": "stdout",
     "output_type": "stream",
     "text": [
      "tensor([[ 56.,  70.],\n",
      "        [ 81., 101.],\n",
      "        [119., 133.],\n",
      "        [ 22.,  37.],\n",
      "        [103., 119.]])\n"
     ]
    }
   ],
   "source": [
    "#compare with target\n",
    "\n",
    "print(targets_tensor)"
   ]
  },
  {
   "cell_type": "code",
   "execution_count": 10,
   "metadata": {},
   "outputs": [],
   "source": [
    "# computing Loss Function\n",
    "\n",
    "\n",
    "# create a mean square error function\n",
    "\n",
    "def mse(y_pred, y_true):\n",
    "    diff = y_pred - y_true\n",
    "    return torch.sum(diff * diff)/diff.numel()"
   ]
  },
  {
   "cell_type": "code",
   "execution_count": 11,
   "metadata": {},
   "outputs": [
    {
     "name": "stdout",
     "output_type": "stream",
     "text": [
      "tensor(7758.4858, grad_fn=<DivBackward0>)\n"
     ]
    }
   ],
   "source": [
    "# calling the mse function\n",
    "\n",
    "loss = mse(y_pred=preds, y_true= targets_tensor)\n",
    "\n",
    "print(loss)"
   ]
  },
  {
   "cell_type": "code",
   "execution_count": 12,
   "metadata": {},
   "outputs": [],
   "source": [
    "# Setting up gradient descent\n",
    "\n",
    "loss.backward()\n",
    "\n",
    "learning_rate = 1e-5\n",
    "\n",
    "with torch.no_grad():\n",
    "    w -= w.grad * learning_rate\n",
    "    b -= b.grad * learning_rate "
   ]
  },
  {
   "cell_type": "code",
   "execution_count": 13,
   "metadata": {},
   "outputs": [
    {
     "name": "stdout",
     "output_type": "stream",
     "text": [
      "tensor(6319.2578, grad_fn=<DivBackward0>)\n"
     ]
    }
   ],
   "source": [
    "preds = model(input_tensor)\n",
    "loss = mse(y_pred=preds, y_true= targets_tensor)\n",
    "print(loss)"
   ]
  },
  {
   "cell_type": "markdown",
   "metadata": {},
   "source": [
    "### gradient descent steps\n",
    "1. make predictions\n",
    "2. calculate the loss\n",
    "3. calculate the gradient of the loss w.r.t weight and bias \n",
    "4. adjust the gradients by either subtracting or adding learning rate\n",
    "5. reset the gradient to zero"
   ]
  },
  {
   "cell_type": "code",
   "execution_count": 14,
   "metadata": {},
   "outputs": [],
   "source": [
    "for i in range(100):\n",
    "    preds = model(input_tensor) # make prediction\n",
    "    loss = mse(y_pred= preds, y_true= targets_tensor) # calculate the loss\n",
    "    loss.backward() # getting the gradient wrt to weight and bias \n",
    "    with torch.no_grad():\n",
    "        # adjust the weight and bias slightly by adding or subtracting\n",
    "        # learning rate\n",
    "        w -= w * learning_rate\n",
    "        b -= b * learning_rate\n",
    "        # reset the gradients to zero\n",
    "        w.grad.zero_()\n",
    "        b.grad.zero_()\n",
    "        "
   ]
  },
  {
   "cell_type": "code",
   "execution_count": 15,
   "metadata": {},
   "outputs": [
    {
     "name": "stdout",
     "output_type": "stream",
     "text": [
      "tensor(6317.6108, grad_fn=<DivBackward0>)\n"
     ]
    }
   ],
   "source": [
    "# getting the current state of the model\n",
    "\n",
    "preds = model(input_tensor)\n",
    "loss = mse(y_pred=preds, y_true= targets_tensor)\n",
    "print(loss)"
   ]
  },
  {
   "cell_type": "markdown",
   "metadata": {},
   "source": [
    "To achieve better result you will have to experiment with different\n",
    "hyperparameters (learning rate, batch size etc....)"
   ]
  },
  {
   "cell_type": "code",
   "execution_count": null,
   "metadata": {},
   "outputs": [],
   "source": []
  }
 ],
 "metadata": {
  "kernelspec": {
   "display_name": "base",
   "language": "python",
   "name": "python3"
  },
  "language_info": {
   "codemirror_mode": {
    "name": "ipython",
    "version": 3
   },
   "file_extension": ".py",
   "mimetype": "text/x-python",
   "name": "python",
   "nbconvert_exporter": "python",
   "pygments_lexer": "ipython3",
   "version": "3.11.4"
  }
 },
 "nbformat": 4,
 "nbformat_minor": 2
}
