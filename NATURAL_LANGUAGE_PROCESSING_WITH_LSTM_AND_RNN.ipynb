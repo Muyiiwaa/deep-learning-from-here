{
  "nbformat": 4,
  "nbformat_minor": 0,
  "metadata": {
    "colab": {
      "provenance": [],
      "authorship_tag": "ABX9TyMdCAeFHY+xTMzDNGpT+QgX",
      "include_colab_link": true
    },
    "kernelspec": {
      "name": "python3",
      "display_name": "Python 3"
    },
    "language_info": {
      "name": "python"
    }
  },
  "cells": [
    {
      "cell_type": "markdown",
      "metadata": {
        "id": "view-in-github",
        "colab_type": "text"
      },
      "source": [
        "<a href=\"https://colab.research.google.com/github/Muyiiwaa/deep-learning-from-here/blob/master/NATURAL_LANGUAGE_PROCESSING_WITH_LSTM_AND_RNN.ipynb\" target=\"_parent\"><img src=\"https://colab.research.google.com/assets/colab-badge.svg\" alt=\"Open In Colab\"/></a>"
      ]
    },
    {
      "cell_type": "markdown",
      "source": [
        "### SENTIMENT CLASSIFICATION WITH LSTM AND RNN"
      ],
      "metadata": {
        "id": "vWUu9fpHAUh8"
      }
    },
    {
      "cell_type": "code",
      "source": [
        "import numpy as np\n",
        "import matplotlib.pyplot as plt\n",
        "import tensorflow as tf\n",
        "import pandas as pd\n",
        "import seaborn as sns\n",
        "\n",
        "from tensorflow.keras.datasets import imdb\n",
        "from tensorflow.keras.preprocessing.sequence import pad_sequences\n",
        "from tensorflow.keras import Sequential\n",
        "from tensorflow.keras.layers import LSTM,  Dropout,Dense, Embedding,SimpleRNN"
      ],
      "metadata": {
        "id": "B1_q0lsUxcpM"
      },
      "execution_count": 65,
      "outputs": []
    },
    {
      "cell_type": "code",
      "source": [
        "(X_train, y_train), (X_test, y_test) = imdb.load_data(num_words = 20000)"
      ],
      "metadata": {
        "id": "ZCnJpxZNb_R9"
      },
      "execution_count": 26,
      "outputs": []
    },
    {
      "cell_type": "code",
      "source": [
        "X_train[0]"
      ],
      "metadata": {
        "id": "sNye4u9ocCL0"
      },
      "execution_count": null,
      "outputs": []
    },
    {
      "cell_type": "markdown",
      "source": [
        "The length of all the reviews must be same before feeding them to the neural network. Hence we are using pad_sequences which pads zeros to reviews with length less than 100."
      ],
      "metadata": {
        "id": "xnBYFUwX678a"
      }
    },
    {
      "cell_type": "code",
      "source": [
        "X_train = pad_sequences(X_train, maxlen = 100)\n",
        "X_test = pad_sequences(X_test, maxlen=100)"
      ],
      "metadata": {
        "id": "GtrjLVSRcGd9"
      },
      "execution_count": 28,
      "outputs": []
    },
    {
      "cell_type": "markdown",
      "source": [
        "We can see that X_train has 25000 rows and 100 columns i.e. it has 25000 reviews each with length 200"
      ],
      "metadata": {
        "id": "6wkBaHhG7Pni"
      }
    },
    {
      "cell_type": "code",
      "source": [
        "X_train.shape"
      ],
      "metadata": {
        "colab": {
          "base_uri": "https://localhost:8080/"
        },
        "id": "4jk6S9L3GdZ2",
        "outputId": "0b82f224-5fe5-4a03-cf34-a36898b0c752"
      },
      "execution_count": 29,
      "outputs": [
        {
          "output_type": "execute_result",
          "data": {
            "text/plain": [
              "(25000, 100)"
            ]
          },
          "metadata": {},
          "execution_count": 29
        }
      ]
    },
    {
      "cell_type": "code",
      "source": [
        "vocab_size = 20000\n",
        "embed_size = 128"
      ],
      "metadata": {
        "id": "ZRsQzRS1chDu"
      },
      "execution_count": 30,
      "outputs": []
    },
    {
      "cell_type": "code",
      "source": [
        "model = Sequential()\n",
        "model.add(Embedding(vocab_size, embed_size, input_shape = (X_train.shape[1],)))\n",
        "model.add(LSTM(units=60, activation='tanh'))\n",
        "\n",
        "model.add(Dense(units=1, activation='sigmoid'))\n",
        "\n",
        "model.compile(optimizer='adam',\n",
        "              loss='binary_crossentropy',\n",
        "              metrics = ['accuracy'])"
      ],
      "metadata": {
        "id": "oSLo3Q97cT1q"
      },
      "execution_count": 31,
      "outputs": []
    },
    {
      "cell_type": "code",
      "source": [
        "model.summary()"
      ],
      "metadata": {
        "colab": {
          "base_uri": "https://localhost:8080/"
        },
        "id": "YDYp7R4Fcajx",
        "outputId": "d3508340-e45d-4c45-cfa9-75039c551e43"
      },
      "execution_count": 32,
      "outputs": [
        {
          "output_type": "stream",
          "name": "stdout",
          "text": [
            "Model: \"sequential_2\"\n",
            "_________________________________________________________________\n",
            " Layer (type)                Output Shape              Param #   \n",
            "=================================================================\n",
            " embedding_2 (Embedding)     (None, 100, 128)          2560000   \n",
            "                                                                 \n",
            " lstm_1 (LSTM)               (None, 60)                45360     \n",
            "                                                                 \n",
            " dense_2 (Dense)             (None, 1)                 61        \n",
            "                                                                 \n",
            "=================================================================\n",
            "Total params: 2605421 (9.94 MB)\n",
            "Trainable params: 2605421 (9.94 MB)\n",
            "Non-trainable params: 0 (0.00 Byte)\n",
            "_________________________________________________________________\n"
          ]
        }
      ]
    },
    {
      "cell_type": "code",
      "source": [
        "history = model.fit(X_train, y_train, epochs=5, batch_size=128, validation_data=(X_test, y_test))"
      ],
      "metadata": {
        "colab": {
          "base_uri": "https://localhost:8080/"
        },
        "id": "yxlMsoFOct9C",
        "outputId": "04a5712d-f3d1-4059-a85c-afeae7b05407"
      },
      "execution_count": 41,
      "outputs": [
        {
          "output_type": "stream",
          "name": "stdout",
          "text": [
            "Epoch 1/5\n",
            "196/196 [==============================] - 65s 334ms/step - loss: 0.0500 - accuracy: 0.9842 - val_loss: 0.5729 - val_accuracy: 0.8267\n",
            "Epoch 2/5\n",
            "196/196 [==============================] - 66s 335ms/step - loss: 0.0357 - accuracy: 0.9884 - val_loss: 0.7565 - val_accuracy: 0.8234\n",
            "Epoch 3/5\n",
            "196/196 [==============================] - 65s 332ms/step - loss: 0.0247 - accuracy: 0.9926 - val_loss: 0.8077 - val_accuracy: 0.8260\n",
            "Epoch 4/5\n",
            "196/196 [==============================] - 63s 323ms/step - loss: 0.0251 - accuracy: 0.9923 - val_loss: 0.7806 - val_accuracy: 0.8162\n",
            "Epoch 5/5\n",
            "196/196 [==============================] - 63s 324ms/step - loss: 0.0184 - accuracy: 0.9946 - val_loss: 0.8213 - val_accuracy: 0.8253\n"
          ]
        }
      ]
    },
    {
      "cell_type": "code",
      "source": [
        "def plot_learningCurve(history, epochs):\n",
        "  # Plot training & validation accuracy values\n",
        "  epoch_range = range(1, epochs+1)\n",
        "  plt.plot(epoch_range, history.history['accuracy'])\n",
        "  plt.plot(epoch_range, history.history['val_accuracy'])\n",
        "  plt.title('Model accuracy')\n",
        "  plt.ylabel('Accuracy')\n",
        "  plt.xlabel('Epoch')\n",
        "  plt.legend(['Train', 'Val'], loc='upper left')\n",
        "  plt.show()\n",
        "\n",
        "  # Plot training & validation loss values\n",
        "  plt.plot(epoch_range, history.history['loss'])\n",
        "  plt.plot(epoch_range, history.history['val_loss'])\n",
        "  plt.title('Model loss')\n",
        "  plt.ylabel('Loss')\n",
        "  plt.xlabel('Epoch')\n",
        "  plt.legend(['Train', 'Val'], loc='upper left')\n",
        "  plt.show()"
      ],
      "metadata": {
        "id": "8qcBF-B2cz5i"
      },
      "execution_count": 53,
      "outputs": []
    },
    {
      "cell_type": "code",
      "source": [
        "plot_learningCurve(history, epochs = 5)"
      ],
      "metadata": {
        "colab": {
          "base_uri": "https://localhost:8080/",
          "height": 927
        },
        "id": "h8Z8PumdPQjj",
        "outputId": "31666b7b-0e75-450c-eb9b-39dc47a9963c"
      },
      "execution_count": 55,
      "outputs": [
        {
          "output_type": "display_data",
          "data": {
            "text/plain": [
              "<Figure size 640x480 with 1 Axes>"
            ],
            "image/png": "[encoded data removed]"
          },
          "metadata": {}
        },
        {
          "output_type": "display_data",
          "data": {
            "text/plain": [
              "<Figure size 640x480 with 1 Axes>"
            ],
            "image/png": "[encoded data removed]"
          },
          "metadata": {}
        }
      ]
    },
    {
      "cell_type": "markdown",
      "source": [
        "### RECURENT NEURAL NETWORK"
      ],
      "metadata": {
        "id": "63-7Wh1m8h16"
      }
    },
    {
      "cell_type": "code",
      "source": [
        "model = Sequential()\n",
        "\n",
        "# Embedding layer\n",
        "model.add(Embedding(vocab_size, embed_size, input_shape = (X_train.shape[1],)))\n",
        "\n",
        "# RNN layer\n",
        "model.add(SimpleRNN(units=60, activation='tanh'))\n",
        "\n",
        "# Dense layer\n",
        "model.add(Dense(units=1, activation='sigmoid'))\n",
        "\n",
        "# Compile the model\n",
        "model.compile(optimizer='adam', loss='binary_crossentropy', metrics = ['accuracy'])\n",
        "\n",
        "model.fit(X_train, y_train, epochs=5, batch_size=128, validation_data=(X_test, y_test))"
      ],
      "metadata": {
        "colab": {
          "base_uri": "https://localhost:8080/"
        },
        "id": "r-azzDWX8gbR",
        "outputId": "bb63bf4d-322d-4b45-ee2e-5caf60fbe9cb"
      },
      "execution_count": 11,
      "outputs": [
        {
          "output_type": "stream",
          "name": "stdout",
          "text": [
            "Epoch 1/5\n",
            "196/196 [==============================] - 27s 129ms/step - loss: 0.5626 - accuracy: 0.6932 - val_loss: 0.4135 - val_accuracy: 0.8194\n",
            "Epoch 2/5\n",
            "196/196 [==============================] - 22s 112ms/step - loss: 0.2835 - accuracy: 0.8856 - val_loss: 0.4192 - val_accuracy: 0.8202\n",
            "Epoch 3/5\n",
            "196/196 [==============================] - 28s 144ms/step - loss: 0.0950 - accuracy: 0.9688 - val_loss: 0.5099 - val_accuracy: 0.8220\n",
            "Epoch 4/5\n",
            "196/196 [==============================] - 26s 132ms/step - loss: 0.0209 - accuracy: 0.9953 - val_loss: 0.6267 - val_accuracy: 0.7952\n",
            "Epoch 5/5\n",
            "196/196 [==============================] - 24s 124ms/step - loss: 0.0045 - accuracy: 0.9997 - val_loss: 0.6709 - val_accuracy: 0.8155\n"
          ]
        },
        {
          "output_type": "execute_result",
          "data": {
            "text/plain": [
              "<keras.src.callbacks.History at 0x7d5df4a5e920>"
            ]
          },
          "metadata": {},
          "execution_count": 11
        }
      ]
    },
    {
      "cell_type": "code",
      "source": [
        "model.evaluate(X_train, y_train)\n",
        "model.evaluate(X_test, y_test)\n",
        "preds = model.predict(X_test)"
      ],
      "metadata": {
        "colab": {
          "base_uri": "https://localhost:8080/"
        },
        "id": "hxhUAgaB9qSk",
        "outputId": "ccb1180b-c8cb-4b74-d37b-f926c8d4f2ed"
      },
      "execution_count": 56,
      "outputs": [
        {
          "output_type": "stream",
          "name": "stdout",
          "text": [
            "782/782 [==============================] - 16s 20ms/step - loss: 0.0153 - accuracy: 0.9963\n",
            "782/782 [==============================] - 16s 20ms/step - loss: 0.8213 - accuracy: 0.8253\n",
            "782/782 [==============================] - 17s 21ms/step\n"
          ]
        }
      ]
    },
    {
      "cell_type": "code",
      "source": [
        "preds = [0 if x < 0.5 else 1 for x in preds]"
      ],
      "metadata": {
        "id": "lg3prsKYDGSm"
      },
      "execution_count": 59,
      "outputs": []
    },
    {
      "cell_type": "code",
      "source": [
        "from tensorflow.math import confusion_matrix\n",
        "from sklearn.metrics import classification_report\n",
        "\n",
        "print(classification_report(y_true = y_test, y_pred = preds))"
      ],
      "metadata": {
        "colab": {
          "base_uri": "https://localhost:8080/"
        },
        "id": "BKIrMqc_ST13",
        "outputId": "78815bd3-fc65-4513-d6ae-b527f3f1ac0b"
      },
      "execution_count": 61,
      "outputs": [
        {
          "output_type": "stream",
          "name": "stdout",
          "text": [
            "              precision    recall  f1-score   support\n",
            "\n",
            "           0       0.85      0.80      0.82     12500\n",
            "           1       0.81      0.86      0.83     12500\n",
            "\n",
            "    accuracy                           0.83     25000\n",
            "   macro avg       0.83      0.83      0.83     25000\n",
            "weighted avg       0.83      0.83      0.83     25000\n",
            "\n"
          ]
        }
      ]
    },
    {
      "cell_type": "code",
      "source": [
        "confusion = confusion_matrix(labels= y_test, predictions=preds)\n",
        "confusion = pd.DataFrame(data = confusion, columns = ['Positive', 'Negative'],\n",
        "                         index = ['Positive', 'Negative'])\n",
        "sns.heatmap(data = confusion, annot = True, fmt = 'd')"
      ],
      "metadata": {
        "colab": {
          "base_uri": "https://localhost:8080/",
          "height": 447
        },
        "id": "W_IZIMSrS8Uw",
        "outputId": "ece0c93f-62c5-46c4-ebc4-5acf6a9ae0d4"
      },
      "execution_count": 66,
      "outputs": [
        {
          "output_type": "execute_result",
          "data": {
            "text/plain": [
              "<Axes: >"
            ]
          },
          "metadata": {},
          "execution_count": 66
        },
        {
          "output_type": "display_data",
          "data": {
            "text/plain": [
              "<Figure size 640x480 with 2 Axes>"
            ],
            "image/png": "[encoded data removed]"
          },
          "metadata": {}
        }
      ]
    },
    {
      "cell_type": "code",
      "source": [],
      "metadata": {
        "id": "qf_tbQa0T_CI"
      },
      "execution_count": null,
      "outputs": []
    }
  ]
}